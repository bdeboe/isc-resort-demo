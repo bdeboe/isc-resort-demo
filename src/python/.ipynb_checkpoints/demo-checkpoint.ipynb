{
 "cells": [
  {
   "cell_type": "markdown",
   "id": "f38b87a8",
   "metadata": {},
   "source": [
    "# Using Foreign Tables\n",
    "### Global Summit 2023 - Demos and Drinks\n",
    "\n",
    "With 2023.1, we're releasing Foreign Tables as an experimental feature of InterSystems IRIS and IRIS for Health. Foreign Tables is a new capability of IRIS SQL that enables users to include data managed elsewhere, in a file or remote database, in regular IRIS SQL queries. Use cases include scenarios in which the ownership, size and rate of change of the remote data make it impractical to load the data into IRIS. Unlike its predecessor Linked Tables that's often used in Interoperability use cases, Foreign Tables have no limitations on how they can be combined with other tables or the syntax that can be used to query them. \n",
    "\n",
    "## A Motivating Example\n",
    "\n",
    "In this example, we're going to reconcile the data architecture for our brand new beachfront resort. Recently, management decided to go with InterSystems IRIS Data Platform for all our data needs -- a very wise decision indeed! Unfortunately, right after acquiring the resort from the previous owner we found out they stored **all** of their data in CSV files. To make matters worse, management originally decided to go with MySQL for the resort's booking system. Most recently, we've used InterSystems IRIS to store all our guest loyalty program data. So we've got a CSV file storing all our room information, a MySQL system storing our reservations, and IRIS storing our loyalty program data -- and it's up to us to bring it all together. \n",
    "\n",
    "Thankfully, management's decision to go with InterSystems is about to pay off as we can easily unite all this data directly in IRIS with the help of Foreign Tables. All we need to do is create two foreign tables (one to access our MySQL data, one to access our CSV data) and then get to querying just as if we were querying native data.\n",
    "\n",
    "First, let's set up our Python environment to connect to our IRIS instance where we want to create our foreign tables:"
   ]
  },
  {
   "cell_type": "code",
   "execution_count": null,
   "id": "e1e32c84",
   "metadata": {},
   "outputs": [],
   "source": [
    "import iris, os\n",
    "from tabulate import tabulate\n",
    "\n",
    "# replace this with your connection info as needed\n",
    "hostname = os.getenv(\"ISC_FT_HOSTNAME\")\n",
    "port = os.getenv(\"ISC_FT_PORT\")\n",
    "namespace = os.getenv(\"ISC_FT_NAMESPACE\")\n",
    "user = os.getenv(\"ISC_FT_USER\")\n",
    "pwd = os.getenv(\"ISC_FT_PASSWORD\")\n",
    "\n",
    "connection = iris.connect(str(hostname)+\":\"+str(port)+\"/\"+str(namespace), user, pwd)\n",
    "\n",
    "import warnings\n",
    "warnings.simplefilter(\"ignore\")\n",
    "\n",
    "def query(sql):\n",
    "    try:\n",
    "        c1 = connection.cursor()\n",
    "        c1.execute(sql)\n",
    "        print(\"Executed successully\")\n",
    "        if c1 is None:\n",
    "            return\n",
    "        resultSet = c1.fetchall()\n",
    "        c1.close()\n",
    "    except Exception as e:\n",
    "        print(\"Query failed: \" + str(e))\n",
    "        return None\n",
    "    return resultSet\n",
    "\n",
    "def ddl(sql):\n",
    "    try:\n",
    "        c1 = connection.cursor()\n",
    "        c1.execute(sql)\n",
    "        print(\"Executed successully\")\n",
    "        c1.close()\n",
    "    except Exception as e:\n",
    "        print(\"Query failed: \" + str(e))\n",
    "    return"
   ]
  },
  {
   "cell_type": "markdown",
   "id": "6dab4c78",
   "metadata": {},
   "source": [
    "Now that we have our connection, let's make sure we can query our local IRIS table Resort.Guests. For most of our examples, we're only going to print the first 10 rows to avoid cluttering the notebook:"
   ]
  },
  {
   "cell_type": "code",
   "execution_count": null,
   "id": "af00290b",
   "metadata": {},
   "outputs": [],
   "source": [
    "rs = query(\"SELECT * FROM Resort.Guests\")\n",
    "\n",
    "print(tabulate(rs[0:10], headers = ['guest_id', 'first_name', 'last_name', 'rewards_level']))"
   ]
  },
  {
   "cell_type": "markdown",
   "id": "6c1d4fb0",
   "metadata": {},
   "source": [
    "While we're at it, let's also investigate the CSV file directly in Python by trying to find how many Double Queen rooms our resort has (and in the process perhaps feel some pity for the team at the old resort):"
   ]
  },
  {
   "cell_type": "code",
   "execution_count": null,
   "id": "461dcc93",
   "metadata": {},
   "outputs": [],
   "source": [
    "import csv\n",
    "\n",
    "with open('/opt/demodata/rooms.csv', newline='') as room_file:\n",
    "    room_reader = csv.reader(room_file, delimiter=',')\n",
    "    num_rooms = 0\n",
    "    for row in room_reader:\n",
    "        if row[1] == 'Double Queen':\n",
    "            num_rooms += 1\n",
    "            \n",
    "print(f'There are {num_rooms} double queen rooms in the resort')"
   ]
  },
  {
   "cell_type": "markdown",
   "id": "1795a4f5",
   "metadata": {},
   "source": [
    "That works well enough for such a simple use case, but can we do better? Of course we can!"
   ]
  },
  {
   "cell_type": "markdown",
   "id": "8048d3e5",
   "metadata": {},
   "source": [
    "## Step 1 \n",
    "### Creating a Foreign Server\n",
    "\n",
    "So we can access our IRIS instance and see the data in our Resort.Guests table, but what about the data in our MySQL table and CSV file? First we have to define the Foreign Server representing either the external database server or a directory on the local filesystem."
   ]
  },
  {
   "cell_type": "code",
   "execution_count": null,
   "id": "eed7442d",
   "metadata": {},
   "outputs": [],
   "source": [
    "ddl(\"CREATE SERVER Resort.CSVServer FOREIGN DATA WRAPPER CSV HOST '/opt/irisbuild/data/'\")\n",
    "\n",
    "ddl(\"CREATE SERVER Resort.MySQLServer FOREIGN DATA WRAPPER JDBC CONNECTION 'mysql' NODELIMITEDIDS\")"
   ]
  },
  {
   "cell_type": "markdown",
   "id": "7f4e8470",
   "metadata": {},
   "source": [
    "The first command creates the server in the Resort schema and ties it to the specified directory. It also tells IRIS to use the CSV Foreign Data Wrapper (FDW) for all tables under this server. You can think of a Foreign Data Wrapper as the adapter logic that InterSystems IRIS uses to interact with a specific type of data source. The second command creates the server in the same schema and ties it to the JDBC SQL Gateway connection named \"mysql\", and specifies a different FDW. We also include the NODELIMITEDIDS keyword so that IRIS won't wrap our identifier names in quotation marks when it sends queries to the source MySQL instance.\n",
    "\n",
    "\n",
    "## Step 2\n",
    "### Creating Foreign Tables\n",
    "\n",
    "Now we'll create an actual Foreign Table, projecting a table from our MySQL database and CSV file:"
   ]
  },
  {
   "cell_type": "code",
   "execution_count": null,
   "id": "ca5622b7",
   "metadata": {},
   "outputs": [],
   "source": [
    "ddl(\"CREATE FOREIGN TABLE Resort.Rooms ( \"+\n",
    "               \"room_no INT, room_type VARCHAR(50), description VARCHAR(500)\"+\n",
    "               \") SERVER Resort.CSVServer FILE 'rooms.csv' VALUES (room_no, room_type, description)\")\n",
    "\n",
    "ddl(\"CREATE FOREIGN TABLE Resort.Reservations \"+\n",
    "               \"SERVER Resort.MySQLServer TABLE 'activereservations'\")"
   ]
  },
  {
   "cell_type": "markdown",
   "id": "8ec779a8",
   "metadata": {},
   "source": [
    "The first command creates the table in the Resort schema on IRIS, tying it to the rooms.csv file in the directory specified for the Foreign Server. The second command creates the table in the same schema on IRIS, tying it to the activereservations table in the external MySQL instance. Notice how the first command specifies the column list explicitly while the second one doesn't: because JDBC query results (such as SELECT * FROM activereservations) come with structural metadata, there is no need to specify any column names and datatypes if you'd like to project the remote table as-is. We also use the VALUES clause to specify what the names of the columns are in the external source."
   ]
  },
  {
   "cell_type": "markdown",
   "id": "20abe3cd",
   "metadata": {},
   "source": [
    "## Step 3\n",
    "### Query!\n",
    "\n",
    "Let's make sure that we can in fact acces both our foreign tables.  As an example, let's see if we can improve on the mess of Python we needed before for our CSV file and fire off one simple SQL query to see how many double queen rooms our resort has:"
   ]
  },
  {
   "cell_type": "code",
   "execution_count": null,
   "id": "2b6b58cc",
   "metadata": {},
   "outputs": [],
   "source": [
    "rs = query(\"SELECT COUNT(*) FROM Resort.Rooms WHERE room_type = 'Double Queen'\")\n",
    "\n",
    "print(tabulate(rs, headers = ['Count']))"
   ]
  },
  {
   "cell_type": "markdown",
   "id": "b1417160",
   "metadata": {},
   "source": [
    "Much better! Let's query the MySQL instance as well, grabbing all the reservations with a rate between \\\\$400 and \\\\$500:"
   ]
  },
  {
   "cell_type": "code",
   "execution_count": null,
   "id": "80bc911f",
   "metadata": {},
   "outputs": [],
   "source": [
    "rs = query(\"SELECT * FROM Resort.Reservations WHERE rate BETWEEN 400 AND 500\")\n",
    "\n",
    "print(tabulate(rs[0:10], headers = ['res_no','room_no','guest_id','rate','check_in_date','check_out_date','check_in_time','check_out_time']))"
   ]
  },
  {
   "cell_type": "markdown",
   "id": "4df19a6b",
   "metadata": {},
   "source": [
    "In the above query, since we're querying an external database IRIS will even send our condition to the DBMS to be processed remotely! We can see this from the [query plan](https://docs.intersystems.com/iris20231/csp/docbook/DocBook.UI.Page.cls?KEY=GSOE_interpret#GSOE_interpret_showplan)\n",
    "\n",
    "    <plans>  \n",
    "        <plan>\n",
    "            <sql>\n",
    "            SELECT * FROM Resort.Reservations WHERE rate BETWEEN 400 AND 500 /*#OPTIONS {\"\"DynamicSQL\"\":1} */\n",
    "            </sql>\n",
    "            <cost value=\"\"720400\"\"/>\n",
    "            Read foreign table Resort.Reservations, sending query:\n",
    "                SELECT res_no,room_no,guest_id,rate,check_in_date,check_out_date,check_in_time,check_out_time   FROM activereservations T1 WHERE (T1.rate >= ((400))) AND (T1.rate <= ((500)))\n",
    "            and looping on pseudo-ID.\n",
    "            For each row:\n",
    "                Output the row.\n",
    "        </plan>\n",
    "    </plans>"
   ]
  },
  {
   "cell_type": "markdown",
   "id": "80e8278a",
   "metadata": {},
   "source": [
    "What if we wanted to include multiple tables in our query? We can do that! For example, let's grab some reservation information about Platinum rewards guests staying at the resort:"
   ]
  },
  {
   "cell_type": "code",
   "execution_count": null,
   "id": "00c9c27b",
   "metadata": {},
   "outputs": [],
   "source": [
    "rs = query(\"SELECT res_no, room_no, rate FROM Resort.Reservations res WHERE res.guest_id IN (SELECT guest_id FROM Resort.Guests WHERE rewards_level = 'Platinum')\")\n",
    "\n",
    "print(tabulate(rs[0:10], headers = ['res_no','room_no','rate']))"
   ]
  },
  {
   "cell_type": "markdown",
   "id": "8623491a",
   "metadata": {},
   "source": [
    "## Joins\n",
    "\n",
    "Sure, it's useful to access the information in our CSV file and our MySQL table from IRIS but in order to *truly* leverage our data we need to bring it all together. Thankfully, foreign tables allow us to perform *hetereogeneneous joins*, or in other words, joins between tables from different data sources. This means we're **not** limited to joins from the same external server, and not even to data sources of the same type! To see this at work, let's try to get some information about all Platinum level guests that are staying in rooms for a rate of $500 or more:"
   ]
  },
  {
   "cell_type": "code",
   "execution_count": null,
   "id": "45a28fc0",
   "metadata": {},
   "outputs": [],
   "source": [
    "rs = query(\"SELECT g.guest_id, g.first_name, g.last_name, res.rate \"+\n",
    "           \"FROM Resort.Guests g JOIN Resort.Reservations res ON g.guest_id = res.guest_id \"+\n",
    "           \"WHERE res.rate > 500\")\n",
    "\n",
    "print(tabulate(rs[0:10], headers=['guest_id','first_name','last_name','rate']))"
   ]
  },
  {
   "cell_type": "markdown",
   "id": "8ac0f227",
   "metadata": {},
   "source": [
    "And just like that, we've got results joined from our local IRIS table and our remote MySQL table! But what if we wanted to join results from our CSV-based table? Not a problem! Let's grab the average rate being paid for each room type:"
   ]
  },
  {
   "cell_type": "code",
   "execution_count": null,
   "id": "b9e5c03a",
   "metadata": {},
   "outputs": [],
   "source": [
    "rs = query(\"SELECT room.room_type, AVG(res.rate) FROM Resort.Reservations res \"+\n",
    "           \"JOIN Resort.Rooms room ON res.room_no = room.room_no GROUP BY room.room_type\")\n",
    "\n",
    "print(tabulate(rs, headers=['room_type', 'avg_rate']))"
   ]
  },
  {
   "cell_type": "markdown",
   "id": "7d9fea8d",
   "metadata": {},
   "source": [
    "We've just aggregated data from a MySQL instance, filtered by joining with a table based in a CSV file, while accessing the results directly in IRIS and leveraging InterSystems IRIS' SQL engine. Though we didn't in this example, we could've even used some IRIS-SQL-specific capabilities like %-functions. No special syntax required, no hoops to jump through, just InterSystems IRIS and your data -- wherever it may live.\n",
    "\n",
    "## Wrapping Up\n",
    "\n",
    "This quick demo is just a taste of what our new Foreign Tables feature can do for you and your data. Feel free to play around with this Jupyter Notebook and see what types of queries you can put together, or download the IRIS Community Edition locally and create your own Foreign Tables to experiment with. As mentioned above, Foreign Tables were released in 2023.1 as an experimental feature and we look forward to graduating it to a production-ready feature. As such, we're always looking to iterate and improve so please reach out with feedback, issues, or questions. We'd also love to hear from users about their individual use cases to help us improve the feature moving forward!\n",
    "\n",
    "If you have any questions or comments feel free to send them to me at mgolden@intersystems.com (or better yet if you see me at the summit, stop me and ask away)!"
   ]
  }
 ],
 "metadata": {
  "kernelspec": {
   "display_name": "Python 3 (ipykernel)",
   "language": "python",
   "name": "python3"
  },
  "language_info": {
   "codemirror_mode": {
    "name": "ipython",
    "version": 3
   },
   "file_extension": ".py",
   "mimetype": "text/x-python",
   "name": "python",
   "nbconvert_exporter": "python",
   "pygments_lexer": "ipython3",
   "version": "3.8.5"
  }
 },
 "nbformat": 4,
 "nbformat_minor": 5
}
